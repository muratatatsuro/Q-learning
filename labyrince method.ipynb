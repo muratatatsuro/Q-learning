{
 "cells": [
  {
   "cell_type": "code",
   "execution_count": 70,
   "metadata": {},
   "outputs": [
    {
     "data": {
      "image/png": "[encoded data removed]",
      "text/plain": [
       "<Figure size 360x360 with 1 Axes>"
      ]
     },
     "metadata": {},
     "output_type": "display_data"
    }
   ],
   "source": [
    "\"\"\"迷路課題実装　3*3 S0=>S8 green:actor\"\"\"\n",
    "import matplotlib.pyplot as plt\n",
    "import numpy as np\n",
    "%matplotlib inline\n",
    "\n",
    "grid=np.array([[0,1,2,3],[0,1,2,3]])\n",
    "fig=plt.figure(figsize=(5,5))\n",
    "ax=plt.gca()\n",
    "plt.xlim(0,3)\n",
    "plt.ylim(0,3)\n",
    "#赤い壁の作成\n",
    "plt.plot((grid[0][1],grid[1][1]),(grid[0][1],grid[1][0]),color='red',linewidth=2)\n",
    "plt.plot((grid[0][1],grid[1][2]),(grid[0][2],grid[1][2]),color='red',linewidth=2)\n",
    "plt.plot((grid[0][2],grid[1][2]),(grid[0][2],grid[1][1]),color='red',linewidth=2)\n",
    "plt.plot((grid[0][3],grid[1][2]),(grid[0][1],grid[1][1]),color='red',linewidth=2)\n",
    "\n",
    "#テキストボックス\n",
    "plt.text(0.5,0.5,'S6',size=20,ha='center')\n",
    "plt.text(0.5,1.5,'S3',size=20,ha='center')\n",
    "plt.text(0.5,2.5,'S0',size=20,ha='center')\n",
    "plt.text(0.5,2.3,'Start',size=20,ha='center')\n",
    "plt.text(1.5,0.5,'S7',size=20,ha='center')\n",
    "plt.text(2.5,0.5,'S8',size=20,ha='center')\n",
    "plt.text(2.5,0.3,'Goal',size=20,ha='center')\n",
    "plt.text(1.5,1.5,'S4',size=20,ha='center')\n",
    "plt.text(1.5,2.5,'S1',size=20,ha='center')\n",
    "plt.text(2.5,1.5,'S5',size=20,ha='center')\n",
    "plt.text(2.5,2.5,'S2',size=20,ha='center')\n",
    "\n",
    "#初期位置に緑のマーク\n",
    "line,=ax.plot(0.5,2.5,marker='o',color='g',markersize=60)\n",
    "plt.show()"
   ]
  },
  {
   "cell_type": "code",
   "execution_count": 71,
   "metadata": {},
   "outputs": [
    {
     "data": {
      "text/plain": [
       "'緑で示されたエージェントがどのように動くかを定める(policy)\\n   π(s,a):状態s(state)の時に行動a(action)を採用する確率はパラメータθで変化する方策πに従う\\n   \\n   エージェントの動きとしては上、下、右、左に動く可能性あり'"
      ]
     },
     "execution_count": 71,
     "metadata": {},
     "output_type": "execute_result"
    }
   ],
   "source": [
    "\"\"\"緑で示されたエージェントがどのように動くかを定める(policy)\n",
    "   π(s,a):状態s(state)の時に行動a(action)を採用する確率はパラメータθで変化する方策πに従う\n",
    "   \n",
    "   エージェントの動きとしては上、下、右、左に動く可能性あり\"\"\""
   ]
  },
  {
   "cell_type": "code",
   "execution_count": 72,
   "metadata": {},
   "outputs": [
    {
     "name": "stdout",
     "output_type": "stream",
     "text": [
      "[ 0.   0.   0.5  0.5]\n"
     ]
    }
   ],
   "source": [
    "#policy 順に上、下、右、左 動ける時を1,動けないときをン氏\n",
    "theta_0=np.array([[np.nan,1,1,np.nan],\n",
    "                  [np.nan,np.nan,1,1],\n",
    "                  [np.nan,1,np.nan,1],\n",
    "                  [1,1,1,np.nan],\n",
    "                  [np.nan,1,np.nan,1],\n",
    "                  [1,np.nan,np.nan,np.nan],\n",
    "                  [1,np.nan,np.nan,np.nan],\n",
    "                  [1,np.nan,1,np.nan]])\n",
    "\n",
    "#policyを確率ベースに変換\n",
    "#policy arrayを確率行列に変換\n",
    "s,t=theta_0.shape\n",
    "prob_array=np.zeros([s,t])\n",
    "\n",
    "for i in range(s):\n",
    "    prob_array[i,:]=theta_0[i,:]/np.nansum(theta_0[i,:])\n",
    "    \n",
    "prob_array=np.nan_to_num(prob_array)\n",
    "print(prob_array[1,:])"
   ]
  },
  {
   "cell_type": "code",
   "execution_count": 73,
   "metadata": {},
   "outputs": [
    {
     "name": "stdout",
     "output_type": "stream",
     "text": [
      "2\n"
     ]
    }
   ],
   "source": [
    "#エージェントがpolicyに従ってゴールを目指す\n",
    "state=5\n",
    "direction=['up','down','right','left']\n",
    "next_direction=np.random.choice(direction,p=prob_array[state,:])\n",
    "\n",
    "if next_direction==direction[0]:\n",
    "    next_state=state-3\n",
    "elif next_direction==direction[1]:\n",
    "    next_state=state+3\n",
    "elif next_direction==direction[2]:\n",
    "    next_state=state+1\n",
    "elif next_direction==direction[3]:\n",
    "    next_state=state-1\n",
    "    \n",
    "print(next_state)\n",
    "    "
   ]
  },
  {
   "cell_type": "code",
   "execution_count": 74,
   "metadata": {},
   "outputs": [],
   "source": [
    "#上の二つの動きを一般化\n",
    "def policy_to_prob(theta):\n",
    "    #policyの行列の形状を取得\n",
    "    s,t=theta.shape\n",
    "    #確率行列を初期化\n",
    "    prob_array=np.zeros([s,t])\n",
    "    \n",
    "    for i in range(s):\n",
    "        prob_array[i,:]=theta[i,:]/np.nansum(theta[i,:])\n",
    "        \n",
    "    #np.nanを0に\n",
    "    prob_array=np.nan_to_num(prob_array)\n",
    "    return prob_array\n",
    "\n",
    "def get_next_state(prob_array,now_state):\n",
    "    direction=['up','down','right','left']\n",
    "    #direction listからある確率分布に従ってランダムに方策(policy)を選択\n",
    "    next_d=np.random.choice(direction,p=prob_array[now_state,:])\n",
    "    \n",
    "    if next_d==direction[0]:\n",
    "        next_state=now_state-3\n",
    "    elif next_d==direction[1]:\n",
    "        next_state=now_state+3\n",
    "    elif next_d==direction[2]:\n",
    "        next_state=now_state+1\n",
    "    elif next_d==direction[3]:\n",
    "        next_state=now_state-1\n",
    "        \n",
    "    return next_state"
   ]
  },
  {
   "cell_type": "code",
   "execution_count": 76,
   "metadata": {},
   "outputs": [
    {
     "name": "stdout",
     "output_type": "stream",
     "text": [
      "[0, 3, 4, 7, 8]\n",
      "labyrince is solved 4 times required\n"
     ]
    }
   ],
   "source": [
    "#迷路を解く\n",
    "\n",
    "#最初の状態を設定\n",
    "state=0\n",
    "state_history=[state]\n",
    "\n",
    "prob_array=policy_to_prob(theta_0)\n",
    "\n",
    "#goalするまでloop\n",
    "while True:\n",
    "    next_state=get_next_state(prob_array,state)\n",
    "    state_history.append(next_state)\n",
    "    \n",
    "    if next_state==8:\n",
    "        break\n",
    "    else:\n",
    "        state=next_state\n",
    "        \n",
    "print(state_history)\n",
    "print('labyrince is solved %d times required'%(len(state_history)-1))"
   ]
  },
  {
   "cell_type": "code",
   "execution_count": 77,
   "metadata": {
    "collapsed": true
   },
   "outputs": [],
   "source": [
    "#goal目指す関数を実装\n",
    "def get_goal(prob_array):\n",
    "    #initialize\n",
    "    state=0\n",
    "    state_history=[state]\n",
    "    goal=8\n",
    "    \n",
    "    while True:\n",
    "        new_state=get_next_state(prob_array,state)\n",
    "        state_history.append(new_state)\n",
    "        \n",
    "        if new_state==goal:\n",
    "            break\n",
    "        else:\n",
    "            state=new_state\n",
    "            \n",
    "    return state_history\n",
    "    \n",
    "state_hitory=get_goal(prob_array)    \n",
    "    "
   ]
  },
  {
   "cell_type": "code",
   "execution_count": 81,
   "metadata": {},
   "outputs": [
    {
     "ename": "RuntimeError",
     "evalue": "Requested MovieWriter (ffmpeg) not available",
     "output_type": "error",
     "traceback": [
      "\u001b[1;31m---------------------------------------------------------------------------\u001b[0m",
      "\u001b[1;31mKeyError\u001b[0m                                  Traceback (most recent call last)",
      "\u001b[1;32mD:\\python\\lib\\site-packages\\matplotlib\\animation.py\u001b[0m in \u001b[0;36m__getitem__\u001b[1;34m(self, name)\u001b[0m\n\u001b[0;32m    169\u001b[0m         \u001b[1;32mtry\u001b[0m\u001b[1;33m:\u001b[0m\u001b[1;33m\u001b[0m\u001b[0m\n\u001b[1;32m--> 170\u001b[1;33m             \u001b[1;32mreturn\u001b[0m \u001b[0mself\u001b[0m\u001b[1;33m.\u001b[0m\u001b[0mavail\u001b[0m\u001b[1;33m[\u001b[0m\u001b[0mname\u001b[0m\u001b[1;33m]\u001b[0m\u001b[1;33m\u001b[0m\u001b[0m\n\u001b[0m\u001b[0;32m    171\u001b[0m         \u001b[1;32mexcept\u001b[0m \u001b[0mKeyError\u001b[0m\u001b[1;33m:\u001b[0m\u001b[1;33m\u001b[0m\u001b[0m\n",
      "\u001b[1;31mKeyError\u001b[0m: 'ffmpeg'",
      "\nDuring handling of the above exception, another exception occurred:\n",
      "\u001b[1;31mRuntimeError\u001b[0m                              Traceback (most recent call last)",
      "\u001b[1;32m<ipython-input-81-0db2498bd396>\u001b[0m in \u001b[0;36m<module>\u001b[1;34m()\u001b[0m\n\u001b[0;32m     16\u001b[0m \u001b[1;33m\u001b[0m\u001b[0m\n\u001b[0;32m     17\u001b[0m \u001b[0manima\u001b[0m\u001b[1;33m=\u001b[0m\u001b[0manimation\u001b[0m\u001b[1;33m.\u001b[0m\u001b[0mFuncAnimation\u001b[0m\u001b[1;33m(\u001b[0m\u001b[0mfig\u001b[0m\u001b[1;33m,\u001b[0m\u001b[0manimate\u001b[0m\u001b[1;33m,\u001b[0m\u001b[0minit_func\u001b[0m\u001b[1;33m=\u001b[0m\u001b[0minit\u001b[0m\u001b[1;33m,\u001b[0m\u001b[0mframes\u001b[0m\u001b[1;33m=\u001b[0m\u001b[0mlen\u001b[0m\u001b[1;33m(\u001b[0m\u001b[0mstate_history\u001b[0m\u001b[1;33m)\u001b[0m\u001b[1;33m,\u001b[0m\u001b[0minterval\u001b[0m\u001b[1;33m=\u001b[0m\u001b[1;36m20\u001b[0m\u001b[1;33m,\u001b[0m\u001b[0mrepeat\u001b[0m\u001b[1;33m=\u001b[0m\u001b[1;32mFalse\u001b[0m\u001b[1;33m)\u001b[0m\u001b[1;33m\u001b[0m\u001b[0m\n\u001b[1;32m---> 18\u001b[1;33m \u001b[0mHTML\u001b[0m\u001b[1;33m(\u001b[0m\u001b[0manima\u001b[0m\u001b[1;33m.\u001b[0m\u001b[0mto_html5_video\u001b[0m\u001b[1;33m(\u001b[0m\u001b[1;33m)\u001b[0m\u001b[1;33m)\u001b[0m\u001b[1;33m\u001b[0m\u001b[0m\n\u001b[0m\u001b[0;32m     19\u001b[0m \u001b[1;33m\u001b[0m\u001b[0m\n",
      "\u001b[1;32mD:\\python\\lib\\site-packages\\matplotlib\\animation.py\u001b[0m in \u001b[0;36mto_html5_video\u001b[1;34m(self, embed_limit)\u001b[0m\n\u001b[0;32m   1347\u001b[0m                 \u001b[1;31m# We create a writer manually so that we can get the\u001b[0m\u001b[1;33m\u001b[0m\u001b[1;33m\u001b[0m\u001b[0m\n\u001b[0;32m   1348\u001b[0m                 \u001b[1;31m# appropriate size for the tag\u001b[0m\u001b[1;33m\u001b[0m\u001b[1;33m\u001b[0m\u001b[0m\n\u001b[1;32m-> 1349\u001b[1;33m                 \u001b[0mWriter\u001b[0m \u001b[1;33m=\u001b[0m \u001b[0mwriters\u001b[0m\u001b[1;33m[\u001b[0m\u001b[0mrcParams\u001b[0m\u001b[1;33m[\u001b[0m\u001b[1;34m'animation.writer'\u001b[0m\u001b[1;33m]\u001b[0m\u001b[1;33m]\u001b[0m\u001b[1;33m\u001b[0m\u001b[0m\n\u001b[0m\u001b[0;32m   1350\u001b[0m                 writer = Writer(codec='h264',\n\u001b[0;32m   1351\u001b[0m                                 \u001b[0mbitrate\u001b[0m\u001b[1;33m=\u001b[0m\u001b[0mrcParams\u001b[0m\u001b[1;33m[\u001b[0m\u001b[1;34m'animation.bitrate'\u001b[0m\u001b[1;33m]\u001b[0m\u001b[1;33m,\u001b[0m\u001b[1;33m\u001b[0m\u001b[0m\n",
      "\u001b[1;32mD:\\python\\lib\\site-packages\\matplotlib\\animation.py\u001b[0m in \u001b[0;36m__getitem__\u001b[1;34m(self, name)\u001b[0m\n\u001b[0;32m    171\u001b[0m         \u001b[1;32mexcept\u001b[0m \u001b[0mKeyError\u001b[0m\u001b[1;33m:\u001b[0m\u001b[1;33m\u001b[0m\u001b[0m\n\u001b[0;32m    172\u001b[0m             raise RuntimeError(\n\u001b[1;32m--> 173\u001b[1;33m                 'Requested MovieWriter ({}) not available'.format(name))\n\u001b[0m\u001b[0;32m    174\u001b[0m \u001b[1;33m\u001b[0m\u001b[0m\n\u001b[0;32m    175\u001b[0m \u001b[1;33m\u001b[0m\u001b[0m\n",
      "\u001b[1;31mRuntimeError\u001b[0m: Requested MovieWriter (ffmpeg) not available"
     ]
    }
   ],
   "source": [
    "from matplotlib import animation\n",
    "from IPython.display import HTML\n",
    "\n",
    "#?\n",
    "#agent actionを動画に\n",
    "def init():\n",
    "    line.set_data\n",
    "    return (line,)\n",
    "\n",
    "def animate(i):\n",
    "    state=state_history[i]\n",
    "    x=(state%3)+0.5\n",
    "    y=2.5-int(state/3)\n",
    "    line.set_data(x,y)\n",
    "    return (line,)\n",
    "    \n",
    "    \n",
    "anima=animation.FuncAnimation(fig,animate,init_func=init,frames=len(state_history),interval=20,repeat=False)\n",
    "HTML(anima.to_html5_video())\n",
    "    "
   ]
  },
  {
   "cell_type": "code",
   "execution_count": null,
   "metadata": {
    "collapsed": true
   },
   "outputs": [],
   "source": []
  }
 ],
 "metadata": {
  "kernelspec": {
   "display_name": "Python 3",
   "language": "python",
   "name": "python3"
  },
  "language_info": {
   "codemirror_mode": {
    "name": "ipython",
    "version": 3
   },
   "file_extension": ".py",
   "mimetype": "text/x-python",
   "name": "python",
   "nbconvert_exporter": "python",
   "pygments_lexer": "ipython3",
   "version": "3.6.3"
  }
 },
 "nbformat": 4,
 "nbformat_minor": 2
}
